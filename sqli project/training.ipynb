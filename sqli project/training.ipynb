{
 "cells": [
  {
   "cell_type": "code",
   "execution_count": 2,
   "metadata": {},
   "outputs": [],
   "source": [
    "import pandas as pd\n",
    "from sklearn.model_selection import train_test_split\n",
    "\n",
    "# Load dataset\n",
    "data = pd.read_csv('./dataset/Modified_SQL_Dataset.csv')\n",
    "\n",
    "# Assuming the dataset has 'query' and 'label' columns\n",
    "X = data['Query']\n",
    "y = data['Label']\n",
    "\n",
    "# Split the data into training and testing sets\n",
    "X_train, X_test, y_train, y_test = train_test_split(X, y, test_size=0.2, random_state=42)"
   ]
  },
  {
   "cell_type": "code",
   "execution_count": 3,
   "metadata": {},
   "outputs": [
    {
     "data": {
      "text/plain": [
       "4043     1\"   )    )    and   (  7467  =  7962  )  *796...\n",
       "23287      SELECT * FROM position WHERE broke IN  ( 'va...\n",
       "18329                            niwinska@estudiodeyoga.td\n",
       "9477     -4644 or 5903  =    (  'qqpjq'||  (  select ca...\n",
       "25597    SELECT * FROM variety WHERE social = 'business...\n",
       "                               ...                        \n",
       "29802           SELECT column_name ( s )  FROM suggest,had\n",
       "5390     1'  )   and 4380  =  5851 and   (  'cxcl'  =  ...\n",
       "860       select * from users where id  =  1 or 1#\"{ un...\n",
       "15795                 baxley@italianmotorvillagesevilla.sh\n",
       "23654     SELECT * FROM lungs WHERE advice = 'egg' LIMIT 3\n",
       "Name: Query, Length: 24735, dtype: object"
      ]
     },
     "execution_count": 3,
     "metadata": {},
     "output_type": "execute_result"
    }
   ],
   "source": [
    "\n",
    "X_train"
   ]
  },
  {
   "cell_type": "code",
   "execution_count": 5,
   "metadata": {},
   "outputs": [],
   "source": [
    "from sklearn.feature_extraction.text import TfidfVectorizer\n",
    "\n",
    "vectorizer = TfidfVectorizer()\n",
    "X_train_tfidf = vectorizer.fit_transform(X_train)\n",
    "X_test_tfidf = vectorizer.transform(X_test)"
   ]
  },
  {
   "cell_type": "code",
   "execution_count": 6,
   "metadata": {},
   "outputs": [
    {
     "name": "stdout",
     "output_type": "stream",
     "text": [
      "              precision    recall  f1-score   support\n",
      "\n",
      "           0       0.96      0.99      0.98      3893\n",
      "           1       0.99      0.94      0.96      2291\n",
      "\n",
      "    accuracy                           0.97      6184\n",
      "   macro avg       0.98      0.96      0.97      6184\n",
      "weighted avg       0.97      0.97      0.97      6184\n",
      "\n"
     ]
    }
   ],
   "source": [
    "from sklearn.linear_model import LogisticRegression\n",
    "from sklearn.metrics import classification_report\n",
    "\n",
    "# Train the model\n",
    "model = LogisticRegression()\n",
    "model.fit(X_train_tfidf, y_train)\n",
    "\n",
    "# Evaluate the model\n",
    "y_pred = model.predict(X_test_tfidf)\n",
    "print(classification_report(y_test, y_pred))"
   ]
  },
  {
   "cell_type": "code",
   "execution_count": 7,
   "metadata": {},
   "outputs": [
    {
     "data": {
      "text/plain": [
       "['./Models/vectorizer.pkl']"
      ]
     },
     "execution_count": 7,
     "metadata": {},
     "output_type": "execute_result"
    }
   ],
   "source": [
    "import joblib\n",
    "\n",
    "joblib.dump(model, './Models/sql_injection_model.pkl')\n",
    "joblib.dump(vectorizer, './Models/vectorizer.pkl')"
   ]
  },
  {
   "cell_type": "code",
   "execution_count": null,
   "metadata": {},
   "outputs": [],
   "source": []
  }
 ],
 "metadata": {
  "kernelspec": {
   "display_name": "Python 3",
   "language": "python",
   "name": "python3"
  },
  "language_info": {
   "codemirror_mode": {
    "name": "ipython",
    "version": 3
   },
   "file_extension": ".py",
   "mimetype": "text/x-python",
   "name": "python",
   "nbconvert_exporter": "python",
   "pygments_lexer": "ipython3",
   "version": "3.11.9"
  }
 },
 "nbformat": 4,
 "nbformat_minor": 2
}
